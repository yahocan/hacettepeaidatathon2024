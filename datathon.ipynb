{
 "cells": [
  {
   "cell_type": "code",
   "execution_count": 4,
   "metadata": {},
   "outputs": [],
   "source": [
    "import pandas as pd\n",
    "import numpy as np\n",
    "import seaborn as sns\n",
    "import matplotlib.pyplot as plt"
   ]
  },
  {
   "cell_type": "code",
   "execution_count": 6,
   "metadata": {},
   "outputs": [],
   "source": [
    "file_paths = {\n",
    "    \"Newsletter Interaction\": \"Newsletter_Interaction_Data.csv\",\n",
    "    \"Product Bug Task\": \"Product_Bug_Task_Data.csv\",\n",
    "    \"Region and Vertical\": \"RegionAndVertical_Data.csv\",\n",
    "    \"Status and Level\": \"StatusAndLevel_Data.csv\",\n",
    "    \"CSAT Survey\": \"CSAT_Survey_Data.csv\",\n",
    "    \"Customer Age\": \"Customer_Age_Data.csv\",\n",
    "    \"Customer MRR\": \"Customer_MRR_Data.csv\",\n",
    "    \"Customer Revenue\": \"Customer_Revenue_Data.csv\",\n",
    "    \"Help Ticket\": \"Help_Ticket_Data.csv\",\n",
    "}"
   ]
  },
  {
   "cell_type": "code",
   "execution_count": null,
   "metadata": {},
   "outputs": [
    {
     "data": {
      "text/plain": [
       "dict_items([('Newsletter Interaction', 'Newsletter_Interaction_Data.csv'), ('Product Bug Task', 'Product_Bug_Task_Data.csv'), ('Region and Vertical', 'RegionAndVertical_Data.csv'), ('Status and Level', 'StatusAndLevel_Data.csv'), ('CSAT Survey', 'CSAT_Survey_Data.csv'), ('Customer Age', 'Customer_Age_Data.csv'), ('Customer MRR', 'Customer_MRR_Data.csv'), ('Customer Revenue', 'Customer_Revenue_Data.csv'), ('Help Ticket', 'Help_Ticket_Data.csv')])"
      ]
     },
     "execution_count": 7,
     "metadata": {},
     "output_type": "execute_result"
    }
   ],
   "source": []
  },
  {
   "cell_type": "code",
   "execution_count": 10,
   "metadata": {},
   "outputs": [],
   "source": [
    "dataframes = {name: pd.read_csv(f\"archive/{path}\") for name, path in file_paths.items()}"
   ]
  },
  {
   "cell_type": "code",
   "execution_count": 13,
   "metadata": {},
   "outputs": [],
   "source": [
    "dataframes[\"Customer Age\"].rename(columns={\"CRM ID\": \"Customer ID\"}, inplace=True)"
   ]
  },
  {
   "cell_type": "code",
   "execution_count": 29,
   "metadata": {},
   "outputs": [],
   "source": [
    "def clean_currency(value):\n",
    "    if isinstance(value, str):\n",
    "        return float(value.replace('$', '').replace(',', ''))\n",
    "    return value\n",
    "\n",
    "dataframes[\"Customer MRR\"][\"MRR\"] = dataframes[\"Customer MRR\"][\"MRR\"].apply(clean_currency)\n",
    "dataframes[\"Customer Revenue\"][\"Total Revenue\"] = dataframes[\"Customer Revenue\"][\"Total Revenue\"].apply(clean_currency)"
   ]
  },
  {
   "cell_type": "code",
   "execution_count": 25,
   "metadata": {},
   "outputs": [
    {
     "name": "stdout",
     "output_type": "stream",
     "text": [
      "📌 Newsletter Interaction veri setinde eşsiz müşteri sayısı: 251\n",
      "➡️ Newsletter Interaction veri setinde toplam satır sayısı: 251\n",
      "📌 Product Bug Task veri setinde eşsiz müşteri sayısı: 640\n",
      "➡️ Product Bug Task veri setinde toplam satır sayısı: 1989\n",
      "📌 Region and Vertical veri setinde eşsiz müşteri sayısı: 2651\n",
      "➡️ Region and Vertical veri setinde toplam satır sayısı: 2655\n",
      "📌 Status and Level veri setinde eşsiz müşteri sayısı: 2651\n",
      "➡️ Status and Level veri setinde toplam satır sayısı: 2655\n",
      "📌 CSAT Survey veri setinde eşsiz müşteri sayısı: 640\n",
      "➡️ CSAT Survey veri setinde toplam satır sayısı: 1989\n",
      "📌 Customer Age veri setinde eşsiz müşteri sayısı: 2651\n",
      "➡️ Customer Age veri setinde toplam satır sayısı: 2651\n",
      "📌 Customer MRR veri setinde eşsiz müşteri sayısı: 1380\n",
      "➡️ Customer MRR veri setinde toplam satır sayısı: 1380\n",
      "📌 Customer Revenue veri setinde eşsiz müşteri sayısı: 901\n",
      "➡️ Customer Revenue veri setinde toplam satır sayısı: 901\n",
      "📌 Help Ticket veri setinde eşsiz müşteri sayısı: 1367\n",
      "➡️ Help Ticket veri setinde toplam satır sayısı: 1367\n"
     ]
    }
   ],
   "source": [
    "for name, df in dataframes.items():\n",
    "    print(f\"📌 {name} veri setinde eşsiz müşteri sayısı:\", df[\"Customer ID\"].nunique())\n",
    "    print(f\"➡️ {name} veri setinde toplam satır sayısı:\", len(df))"
   ]
  },
  {
   "cell_type": "code",
   "execution_count": 32,
   "metadata": {},
   "outputs": [
    {
     "name": "stdout",
     "output_type": "stream",
     "text": [
      "Index(['Customer ID',\n",
      "       'How likely are you to recommend insider to a friend or colleague ',\n",
      "       'How would you rate the value you gain from our company',\n",
      "       'Please rate the overall quality of our products',\n",
      "       'Please rate the usability of the panel'],\n",
      "      dtype='object')\n"
     ]
    }
   ],
   "source": [
    "print(dataframes[\"CSAT Survey\"].columns)"
   ]
  },
  {
   "cell_type": "code",
   "execution_count": 34,
   "metadata": {},
   "outputs": [],
   "source": [
    "dataframes[\"Product Bug Task\"] = dataframes[\"Product Bug Task\"].groupby(\"Customer ID\", as_index=False)[\"Product Bug Task Count\"].sum()\n",
    "\n",
    "csat_columns = [\n",
    "    \"How likely are you to recommend insider to a friend or colleague \",\n",
    "    \"How would you rate the value you gain from our company\",\n",
    "    \"Please rate the overall quality of our products\",\n",
    "    \"Please rate the usability of the panel\"\n",
    "]\n",
    "dataframes[\"CSAT Survey\"] = dataframes[\"CSAT Survey\"].groupby(\"Customer ID\", as_index=False)[csat_columns].mean()\n",
    "\n",
    "dataframes[\"Region and Vertical\"] = dataframes[\"Region and Vertical\"].groupby(\"Customer ID\").agg(lambda x: x.mode().iloc[0] if not x.mode().empty else x.iloc[0]).reset_index()\n",
    "\n",
    "dataframes[\"Status and Level\"] = dataframes[\"Status and Level\"].groupby(\"Customer ID\").agg(lambda x: x.mode().iloc[0] if not x.mode().empty else x.iloc[0]).reset_index()"
   ]
  },
  {
   "cell_type": "code",
   "execution_count": 35,
   "metadata": {},
   "outputs": [],
   "source": [
    "merged_df = dataframes[\"Customer Age\"]\n",
    "\n",
    "for key, df in dataframes.items():\n",
    "    if key != \"Customer Age\":  # Zaten başlangıç noktası olarak kullanıyoruz\n",
    "        merged_df = merged_df.merge(df, on=\"Customer ID\", how=\"left\")"
   ]
  },
  {
   "cell_type": "code",
   "execution_count": 40,
   "metadata": {},
   "outputs": [
    {
     "name": "stdout",
     "output_type": "stream",
     "text": [
      "Merged Satır Sayısı: 2651\n",
      "Unique Customer ID Sayısı: 2651\n",
      "Newsletter Interaction veri setinde eşsiz müşteri sayısı: 251\n",
      "Newsletter Interaction veri setinde toplam satır sayısı: 251\n",
      "Product Bug Task veri setinde eşsiz müşteri sayısı: 640\n",
      "Product Bug Task veri setinde toplam satır sayısı: 640\n",
      "Region and Vertical veri setinde eşsiz müşteri sayısı: 2651\n",
      "Region and Vertical veri setinde toplam satır sayısı: 2651\n",
      "Status and Level veri setinde eşsiz müşteri sayısı: 2651\n",
      "Status and Level veri setinde toplam satır sayısı: 2651\n",
      "CSAT Survey veri setinde eşsiz müşteri sayısı: 640\n",
      "CSAT Survey veri setinde toplam satır sayısı: 640\n",
      "Customer Age veri setinde eşsiz müşteri sayısı: 2651\n",
      "Customer Age veri setinde toplam satır sayısı: 2651\n",
      "Customer MRR veri setinde eşsiz müşteri sayısı: 1380\n",
      "Customer MRR veri setinde toplam satır sayısı: 1380\n",
      "Customer Revenue veri setinde eşsiz müşteri sayısı: 901\n",
      "Customer Revenue veri setinde toplam satır sayısı: 901\n",
      "Help Ticket veri setinde eşsiz müşteri sayısı: 1367\n",
      "Help Ticket veri setinde toplam satır sayısı: 1367\n"
     ]
    }
   ],
   "source": [
    "print(\"Merged Satır Sayısı:\", len(merged_df))\n",
    "\n",
    "print(\"Unique Customer ID Sayısı:\", merged_df[\"Customer ID\"].nunique())\n",
    "\n",
    "for name, df in dataframes.items():\n",
    "    print(f\"{name} veri setinde eşsiz müşteri sayısı:\", df[\"Customer ID\"].nunique())\n",
    "    print(f\"{name} veri setinde toplam satır sayısı:\", len(df))\n"
   ]
  },
  {
   "cell_type": "code",
   "execution_count": null,
   "metadata": {},
   "outputs": [
    {
     "name": "stdout",
     "output_type": "stream",
     "text": [
      "\n",
      "Eksik Veri Analizi:\n",
      "                                                    Eksik Değer Sayısı  \\\n",
      "Company Newsletter Interaction Count                              2400   \n",
      "Product Bug Task Count                                            2013   \n",
      "Region                                                               1   \n",
      "Vertical                                                            66   \n",
      "Subvertical                                                        102   \n",
      "Customer Level                                                       1   \n",
      "How likely are you to recommend insider to a fr...                2013   \n",
      "How would you rate the value you gain from our ...                2013   \n",
      "Please rate the overall quality of our products                   2013   \n",
      "Please rate the usability of the panel                            2018   \n",
      "MRR                                                               1319   \n",
      "Total Revenue                                                     1750   \n",
      "Help Ticket Count                                                 1284   \n",
      "Help Ticket Lead Time (hours)                                     1284   \n",
      "\n",
      "                                                    Eksik Veri (%)  \n",
      "Company Newsletter Interaction Count                     90.531875  \n",
      "Product Bug Task Count                                   75.933610  \n",
      "Region                                                    0.037722  \n",
      "Vertical                                                  2.489627  \n",
      "Subvertical                                               3.847605  \n",
      "Customer Level                                            0.037722  \n",
      "How likely are you to recommend insider to a fr...       75.933610  \n",
      "How would you rate the value you gain from our ...       75.933610  \n",
      "Please rate the overall quality of our products          75.933610  \n",
      "Please rate the usability of the panel                   76.122218  \n",
      "MRR                                                      49.754810  \n",
      "Total Revenue                                            66.012825  \n",
      "Help Ticket Count                                        48.434553  \n",
      "Help Ticket Lead Time (hours)                            48.434553  \n"
     ]
    }
   ],
   "source": [
    "missing_values = merged_df.isnull().sum()\n",
    "missing_percentage = (missing_values / len(merged_df)) * 100\n",
    "\n",
    "missing_df = pd.DataFrame({\"Eksik Değer Sayısı\": missing_values, \"Eksik Veri (%)\": missing_percentage})\n",
    "missing_df = missing_df[missing_df[\"Eksik Değer Sayısı\"] > 0]  \n",
    "\n",
    "print(\"\\nEksik Veri Analizi:\")\n",
    "print(missing_df)\n"
   ]
  },
  {
   "cell_type": "code",
   "execution_count": 56,
   "metadata": {},
   "outputs": [],
   "source": [
    "merged_df[\"Company Newsletter Interaction Count\"] = merged_df[\"Company Newsletter Interaction Count\"].fillna(0)\n",
    "merged_df[\"Product Bug Task Count\"] = merged_df[\"Product Bug Task Count\"].fillna(0)\n",
    "csat_columns = [\n",
    "    \"How likely are you to recommend insider to a friend or colleague \",\n",
    "    \"How would you rate the value you gain from our company\",\n",
    "    \"Please rate the overall quality of our products\",\n",
    "    \"Please rate the usability of the panel\"\n",
    "]\n",
    "\n",
    "numeric_cols = merged_df.select_dtypes(include=[np.number]).columns\n",
    "\n",
    "for col in numeric_cols:\n",
    "    merged_df[col] = merged_df[col].fillna(merged_df[col].median())\n",
    "merged_df[\"MRR\"] = merged_df[\"MRR\"].fillna(0)\n",
    "merged_df[\"Total Revenue\"] = merged_df[\"Total Revenue\"].fillna(0)\n",
    "merged_df[\"Help Ticket Count\"] =merged_df[\"Help Ticket Count\"].fillna(0)\n",
    "merged_df[\"Help Ticket Lead Time (hours)\"]=merged_df[\"Help Ticket Lead Time (hours)\"].fillna(0)\n",
    "categorical_columns = [\"Region\", \"Vertical\", \"Subvertical\", \"Customer Level\"]\n",
    "\n",
    "for col in categorical_columns:\n",
    "    merged_df[col] = merged_df[col].fillna(merged_df[col].mode()[0])  "
   ]
  },
  {
   "cell_type": "code",
   "execution_count": 57,
   "metadata": {},
   "outputs": [
    {
     "name": "stdout",
     "output_type": "stream",
     "text": [
      "Customer ID                                                          0\n",
      "Customer Age (Months)                                                0\n",
      "Company Newsletter Interaction Count                                 0\n",
      "Product Bug Task Count                                               0\n",
      "Region                                                               0\n",
      "Vertical                                                             0\n",
      "Subvertical                                                          0\n",
      "Status                                                               0\n",
      "Customer Level                                                       0\n",
      "How likely are you to recommend insider to a friend or colleague     0\n",
      "How would you rate the value you gain from our company               0\n",
      "Please rate the overall quality of our products                      0\n",
      "Please rate the usability of the panel                               0\n",
      "MRR                                                                  0\n",
      "Total Revenue                                                        0\n",
      "Help Ticket Count                                                    0\n",
      "Help Ticket Lead Time (hours)                                        0\n",
      "dtype: int64\n"
     ]
    }
   ],
   "source": [
    "print(merged_df.isnull().sum())"
   ]
  }
 ],
 "metadata": {
  "kernelspec": {
   "display_name": "Python 3",
   "language": "python",
   "name": "python3"
  },
  "language_info": {
   "codemirror_mode": {
    "name": "ipython",
    "version": 3
   },
   "file_extension": ".py",
   "mimetype": "text/x-python",
   "name": "python",
   "nbconvert_exporter": "python",
   "pygments_lexer": "ipython3",
   "version": "3.13.0"
  }
 },
 "nbformat": 4,
 "nbformat_minor": 2
}
